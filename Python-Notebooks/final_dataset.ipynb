{
 "cells": [
  {
   "cell_type": "markdown",
   "id": "4696b4e5",
   "metadata": {},
   "source": [
    "# Combining all time series data, prepared from the individual datasets.  \n",
    "### This data will also be checked for missing values and outliers, and trend analysis carried out."
   ]
  },
  {
   "cell_type": "code",
   "execution_count": 1,
   "id": "eafb78d9",
   "metadata": {},
   "outputs": [],
   "source": [
    "# Import relevant libraries\n",
    "from datetime import datetime\n",
    "import pandas as pd\n",
    "import matplotlib.pyplot as plt\n",
    "import seaborn as sns\n",
    "import numpy as np"
   ]
  },
  {
   "cell_type": "markdown",
   "id": "7c47fc3b",
   "metadata": {},
   "source": [
    "## Combine all three cleaned datasets, US, UK and the Statista data."
   ]
  },
  {
   "cell_type": "code",
   "execution_count": 2,
   "id": "5fe89c36",
   "metadata": {},
   "outputs": [
    {
     "data": {
      "text/plain": [
       "(          Year  no_of_attacks\n",
       " 0   2017-01-31           2416\n",
       " 1   2017-02-28           2416\n",
       " 2   2017-03-31           2416\n",
       " 3   2017-04-30           2416\n",
       " 4   2017-05-31           2416\n",
       " ..         ...            ...\n",
       " 56  2021-09-30            372\n",
       " 57  2021-10-31            372\n",
       " 58  2021-11-30            372\n",
       " 59  2021-12-31            372\n",
       " 60  2022-01-31            856\n",
       " \n",
       " [61 rows x 2 columns],\n",
       "            Year  no_of_attacks\n",
       " 0    2014-01-31             36\n",
       " 1    2014-02-28             24\n",
       " 2    2014-03-31             34\n",
       " 3    2014-04-30             38\n",
       " 4    2014-05-31             16\n",
       " ..          ...            ...\n",
       " 103  2022-08-31             21\n",
       " 104  2022-09-30             32\n",
       " 105  2022-10-31             19\n",
       " 106  2022-11-30              6\n",
       " 107  2022-12-31              4\n",
       " \n",
       " [108 rows x 2 columns],\n",
       "           Year  no_of_attacks\n",
       " 0   2016-01-31        35713.0\n",
       " 1   2016-02-29        35713.0\n",
       " 2   2016-03-31        35713.0\n",
       " 3   2016-04-30        35713.0\n",
       " 4   2016-05-31        35713.0\n",
       " ..         ...            ...\n",
       " 68  2021-09-30         1049.0\n",
       " 69  2021-10-31         1049.0\n",
       " 70  2021-11-30         1049.0\n",
       " 71  2021-12-31         1049.0\n",
       " 72  2022-01-31          825.0\n",
       " \n",
       " [73 rows x 2 columns])"
      ]
     },
     "execution_count": 2,
     "metadata": {},
     "output_type": "execute_result"
    }
   ],
   "source": [
    "# Loading the UK breaches dataset...please load from own local machine\n",
    "\n",
    "uk_incidents_resampled_file_path = '/Users/gorji1/Desktop/MSC_RESEARCH_PROJECT/Data_sets/uk_incidents_resampled.csv'\n",
    "uk_incidents_resampled = pd.read_csv(uk_incidents_resampled_file_path)\n",
    "\n",
    "us_incidents_file_path = '/Users/gorji1/Desktop/MSC_RESEARCH_PROJECT/Data_sets/us_incidents.csv'\n",
    "us_incidents = pd.read_csv(us_incidents_file_path)\n",
    "\n",
    "\n",
    "statista_df_resampled_file_path = '/Users/gorji1/Desktop/MSC_RESEARCH_PROJECT/Data_sets/statista_df_resampled.csv'\n",
    "statista_df_resampled = pd.read_csv(statista_df_resampled_file_path)\n",
    "\n",
    "uk_incidents_resampled, us_incidents, statista_df_resampled\n"
   ]
  },
  {
   "cell_type": "markdown",
   "id": "d03b07df",
   "metadata": {},
   "source": [
    "<font size = '3.5'>\n",
    "If there is an overlap in dates between the dataframes, the no_of_attacks will be the sum of the attacks from all the datasets for that month.\n",
    "If a month is present in only one or two of the datasets but not in the others, the no_of_attacks for that month will only consider the datasets where the month is present.\n",
    "</font>"
   ]
  },
  {
   "cell_type": "code",
   "execution_count": 3,
   "id": "41f91297",
   "metadata": {},
   "outputs": [
    {
     "data": {
      "text/html": [
       "<div>\n",
       "<style scoped>\n",
       "    .dataframe tbody tr th:only-of-type {\n",
       "        vertical-align: middle;\n",
       "    }\n",
       "\n",
       "    .dataframe tbody tr th {\n",
       "        vertical-align: top;\n",
       "    }\n",
       "\n",
       "    .dataframe thead th {\n",
       "        text-align: right;\n",
       "    }\n",
       "</style>\n",
       "<table border=\"1\" class=\"dataframe\">\n",
       "  <thead>\n",
       "    <tr style=\"text-align: right;\">\n",
       "      <th></th>\n",
       "      <th>Year</th>\n",
       "      <th>no_of_attacks</th>\n",
       "    </tr>\n",
       "  </thead>\n",
       "  <tbody>\n",
       "    <tr>\n",
       "      <th>0</th>\n",
       "      <td>2014-01-31</td>\n",
       "      <td>36.0</td>\n",
       "    </tr>\n",
       "    <tr>\n",
       "      <th>1</th>\n",
       "      <td>2014-02-28</td>\n",
       "      <td>24.0</td>\n",
       "    </tr>\n",
       "    <tr>\n",
       "      <th>2</th>\n",
       "      <td>2014-03-31</td>\n",
       "      <td>34.0</td>\n",
       "    </tr>\n",
       "    <tr>\n",
       "      <th>3</th>\n",
       "      <td>2014-04-30</td>\n",
       "      <td>38.0</td>\n",
       "    </tr>\n",
       "    <tr>\n",
       "      <th>4</th>\n",
       "      <td>2014-05-31</td>\n",
       "      <td>16.0</td>\n",
       "    </tr>\n",
       "  </tbody>\n",
       "</table>\n",
       "</div>"
      ],
      "text/plain": [
       "         Year  no_of_attacks\n",
       "0  2014-01-31           36.0\n",
       "1  2014-02-28           24.0\n",
       "2  2014-03-31           34.0\n",
       "3  2014-04-30           38.0\n",
       "4  2014-05-31           16.0"
      ]
     },
     "execution_count": 3,
     "metadata": {},
     "output_type": "execute_result"
    }
   ],
   "source": [
    "# Merge the dataframes on 'Year' and sum the 'no_of_attacks' for each month\n",
    "final_time_series = pd.concat([uk_incidents_resampled, us_incidents, statista_df_resampled]).groupby('Year').sum().reset_index()\n",
    "\n",
    "final_time_series.head()\n"
   ]
  },
  {
   "cell_type": "markdown",
   "id": "35492a62",
   "metadata": {},
   "source": [
    "## Plotting the final time series data."
   ]
  },
  {
   "cell_type": "code",
   "execution_count": 4,
   "id": "2dd93166",
   "metadata": {},
   "outputs": [
    {
     "data": {
      "image/png": "[encoded data removed]",
      "text/plain": [
       "<Figure size 1500x700 with 1 Axes>"
      ]
     },
     "metadata": {},
     "output_type": "display_data"
    }
   ],
   "source": [
    "\n",
    "# Adjusting the x-ticks to display every six months\n",
    "xticks = final_time_series['Year'][::6]\n",
    "\n",
    "# Using Seaborn for plotting\n",
    "plt.figure(figsize=(15, 7))\n",
    "sns.lineplot(data=final_time_series, x='Year', y='no_of_attacks', marker='o', linestyle='-')\n",
    "plt.title('Total Number of Attacks Over Time')\n",
    "plt.xlabel('Year')\n",
    "plt.ylabel('Number of Attacks')\n",
    "plt.xticks(xticks, rotation=45, ha='right')  # Display x-axis ticks every six months\n",
    "plt.grid(True)\n",
    "plt.tight_layout()\n",
    "plt.show()\n",
    "\n"
   ]
  },
  {
   "cell_type": "markdown",
   "id": "d502b2f1",
   "metadata": {},
   "source": [
    "## Checking for Outliers"
   ]
  },
  {
   "cell_type": "code",
   "execution_count": 5,
   "id": "4c56198f",
   "metadata": {},
   "outputs": [
    {
     "data": {
      "image/png": "[encoded data removed]",
      "text/plain": [
       "<Figure size 1000x600 with 1 Axes>"
      ]
     },
     "metadata": {},
     "output_type": "display_data"
    }
   ],
   "source": [
    "# Using Seaborn to create a box plot for 'no_of_attacks' to visualize potential outliers\n",
    "plt.figure(figsize=(10, 6))\n",
    "sns.boxplot(x=final_time_series['no_of_attacks'])\n",
    "plt.title('Box plot of Number of Attacks')\n",
    "plt.xlabel('Number of Attacks')\n",
    "plt.show()\n"
   ]
  },
  {
   "cell_type": "code",
   "execution_count": 6,
   "id": "d81cf0af",
   "metadata": {},
   "outputs": [
    {
     "data": {
      "text/html": [
       "<div>\n",
       "<style scoped>\n",
       "    .dataframe tbody tr th:only-of-type {\n",
       "        vertical-align: middle;\n",
       "    }\n",
       "\n",
       "    .dataframe tbody tr th {\n",
       "        vertical-align: top;\n",
       "    }\n",
       "\n",
       "    .dataframe thead th {\n",
       "        text-align: right;\n",
       "    }\n",
       "</style>\n",
       "<table border=\"1\" class=\"dataframe\">\n",
       "  <thead>\n",
       "    <tr style=\"text-align: right;\">\n",
       "      <th></th>\n",
       "      <th>Year</th>\n",
       "      <th>no_of_attacks</th>\n",
       "      <th>Z_score</th>\n",
       "    </tr>\n",
       "  </thead>\n",
       "  <tbody>\n",
       "  </tbody>\n",
       "</table>\n",
       "</div>"
      ],
      "text/plain": [
       "Empty DataFrame\n",
       "Columns: [Year, no_of_attacks, Z_score]\n",
       "Index: []"
      ]
     },
     "execution_count": 6,
     "metadata": {},
     "output_type": "execute_result"
    }
   ],
   "source": [
    "# Using z scores to check for outliers\n",
    "\n",
    "from scipy.stats import zscore\n",
    "\n",
    "# Calculate Z-scores for 'no_of_attacks'\n",
    "final_time_series['Z_score'] = zscore(final_time_series['no_of_attacks'])\n",
    "\n",
    "# Identify outliers using the Z-score method (Z > 3 or Z < -3)\n",
    "outliers = final_time_series[abs(final_time_series['Z_score']) > 3]\n",
    "\n",
    "outliers\n"
   ]
  },
  {
   "cell_type": "markdown",
   "id": "0ea4fda3",
   "metadata": {},
   "source": [
    "<font size = '3.5'>\n",
    " No outliers detected\n",
    " </font>"
   ]
  },
  {
   "cell_type": "code",
   "execution_count": 7,
   "id": "c878bc95",
   "metadata": {},
   "outputs": [
    {
     "data": {
      "text/html": [
       "<div>\n",
       "<style scoped>\n",
       "    .dataframe tbody tr th:only-of-type {\n",
       "        vertical-align: middle;\n",
       "    }\n",
       "\n",
       "    .dataframe tbody tr th {\n",
       "        vertical-align: top;\n",
       "    }\n",
       "\n",
       "    .dataframe thead th {\n",
       "        text-align: right;\n",
       "    }\n",
       "</style>\n",
       "<table border=\"1\" class=\"dataframe\">\n",
       "  <thead>\n",
       "    <tr style=\"text-align: right;\">\n",
       "      <th></th>\n",
       "      <th>Year</th>\n",
       "      <th>no_of_attacks</th>\n",
       "    </tr>\n",
       "  </thead>\n",
       "  <tbody>\n",
       "    <tr>\n",
       "      <th>0</th>\n",
       "      <td>2014-01-31</td>\n",
       "      <td>36.0</td>\n",
       "    </tr>\n",
       "    <tr>\n",
       "      <th>1</th>\n",
       "      <td>2014-02-28</td>\n",
       "      <td>24.0</td>\n",
       "    </tr>\n",
       "    <tr>\n",
       "      <th>2</th>\n",
       "      <td>2014-03-31</td>\n",
       "      <td>34.0</td>\n",
       "    </tr>\n",
       "    <tr>\n",
       "      <th>3</th>\n",
       "      <td>2014-04-30</td>\n",
       "      <td>38.0</td>\n",
       "    </tr>\n",
       "    <tr>\n",
       "      <th>4</th>\n",
       "      <td>2014-05-31</td>\n",
       "      <td>16.0</td>\n",
       "    </tr>\n",
       "  </tbody>\n",
       "</table>\n",
       "</div>"
      ],
      "text/plain": [
       "         Year  no_of_attacks\n",
       "0  2014-01-31           36.0\n",
       "1  2014-02-28           24.0\n",
       "2  2014-03-31           34.0\n",
       "3  2014-04-30           38.0\n",
       "4  2014-05-31           16.0"
      ]
     },
     "execution_count": 7,
     "metadata": {},
     "output_type": "execute_result"
    }
   ],
   "source": [
    "# drop the z score column as data will be saved as final_time_series\n",
    "# Dropping the Z_score column\n",
    "final_time_series.drop('Z_score', axis=1, inplace=True)\n",
    "\n",
    "# Displaying the first few rows of the updated dataframe\n",
    "final_time_series.head()\n"
   ]
  },
  {
   "cell_type": "code",
   "execution_count": 8,
   "id": "ef129672",
   "metadata": {},
   "outputs": [
    {
     "data": {
      "text/plain": [
       "'/Users/gorji1/Desktop/MSC_RESEARCH_PROJECT/Data_sets/final_time_series.csv'"
      ]
     },
     "execution_count": 8,
     "metadata": {},
     "output_type": "execute_result"
    }
   ],
   "source": [
    "# Saving the aggregated dataset to a CSV file\n",
    "\n",
    "#save_path_series = '/Users/gorji1/Desktop/MSC_RESEARCH_PROJECT/Data_sets/final_time_series.csv'\n",
    "\n",
    "#final_time_series.to_csv(save_path_series, index=False)\n",
    "\n",
    "#save_path_series\n"
   ]
  },
  {
   "cell_type": "markdown",
   "id": "c32fd4e8",
   "metadata": {},
   "source": [
    "## Data sources:  \n",
    "### 1. UK data services\n",
    "### 2. US Dept.of Health\n",
    "### 3. Statista"
   ]
  },
  {
   "cell_type": "markdown",
   "id": "7c42d95c",
   "metadata": {},
   "source": [
    "### This script is part of the author's research project, initial stage: Data Cleaning.\n",
    "\n",
    "\n",
    "    \n",
    "### This script can be reproduced without permission.\n",
    "    \n",
    "\n",
    "\n",
    "### Author : Chinyere.O.Ugorji &copy; 2023\n"
   ]
  },
  {
   "cell_type": "code",
   "execution_count": 9,
   "id": "98a1fa21",
   "metadata": {},
   "outputs": [
    {
     "name": "stdout",
     "output_type": "stream",
     "text": [
      "3.10.12 (main, Jul  5 2023, 14:49:34) [Clang 14.0.6 ]\n"
     ]
    }
   ],
   "source": [
    "import sys\n",
    "print(sys.version)\n"
   ]
  },
  {
   "cell_type": "code",
   "execution_count": null,
   "id": "3563fe2c",
   "metadata": {},
   "outputs": [],
   "source": []
  }
 ],
 "metadata": {
  "kernelspec": {
   "display_name": "Python 3 (ipykernel)",
   "language": "python",
   "name": "python3"
  },
  "language_info": {
   "codemirror_mode": {
    "name": "ipython",
    "version": 3
   },
   "file_extension": ".py",
   "mimetype": "text/x-python",
   "name": "python",
   "nbconvert_exporter": "python",
   "pygments_lexer": "ipython3",
   "version": "3.10.12"
  }
 },
 "nbformat": 4,
 "nbformat_minor": 5
}
